{
 "cells": [
  {
   "cell_type": "markdown",
   "id": "494e7b87",
   "metadata": {},
   "source": [
    "# 1. In what modes should the PdfFileReader() and PdfFileWriter() File objects will be opened?\n",
    "\n",
    "ANSWER- PdfFileReader() file objects will be opened in rb->read binary mode.Whereas for PdfFileWriter() file objects will be opened in wb->write binary mode."
   ]
  },
  {
   "cell_type": "markdown",
   "id": "2173b140",
   "metadata": {},
   "source": [
    "# 2. From a PdfFileReader object, how do you get a Page object for page 5?\n",
    "\n",
    "ANSWER-PdfFileReader class provides a method called getPage(page_no) to get page object."
   ]
  },
  {
   "cell_type": "code",
   "execution_count": 23,
   "id": "9ecbee74",
   "metadata": {},
   "outputs": [
    {
     "name": "stdout",
     "output_type": "stream",
     "text": [
      "Requirement already satisfied: PyPDF2 in c:\\anaconda\\lib\\site-packages (2.12.1)\n",
      "Requirement already satisfied: typing_extensions>=3.10.0.0 in c:\\anaconda\\lib\\site-packages (from PyPDF2) (4.1.1)\n",
      "{'/Type': '/Page', '/Parent': IndirectObject(2, 0, 1703798148544), '/Resources': {'/Font': {'/F1': IndirectObject(5, 0, 1703798148544), '/F2': IndirectObject(9, 0, 1703798148544), '/F3': IndirectObject(11, 0, 1703798148544), '/F4': IndirectObject(13, 0, 1703798148544), '/F5': IndirectObject(18, 0, 1703798148544), '/F6': IndirectObject(20, 0, 1703798148544), '/F7': IndirectObject(22, 0, 1703798148544), '/F8': IndirectObject(27, 0, 1703798148544)}, '/ExtGState': {'/GS7': IndirectObject(7, 0, 1703798148544), '/GS8': IndirectObject(8, 0, 1703798148544)}, '/ProcSet': ['/PDF', '/Text', '/ImageB', '/ImageC', '/ImageI']}, '/MediaBox': [0, 0, 612, 792], '/Contents': IndirectObject(4, 0, 1703798148544), '/Group': {'/Type': '/Group', '/S': '/Transparency', '/CS': '/DeviceRGB'}, '/Tabs': '/S', '/StructParents': 0}\n"
     ]
    }
   ],
   "source": [
    "#code\n",
    "!pip install PyPDF2\n",
    "from PyPDF2 import PdfFileReader\n",
    "pdf_reader=PdfFileReader(r\"C:\\Users\\hp\\Downloads\\Ritu_ResumeP.pdf\")\n",
    "for page in range(pdf_reader.getNumPages()):\n",
    "    print(pdf_reader.getPage(page))"
   ]
  },
  {
   "cell_type": "markdown",
   "id": "96019a2b",
   "metadata": {},
   "source": [
    "# 3. What PdfFileReader variable stores the number of pages in the PDF document?\n",
    "\n",
    "ANSWER-getNumPages() method of PdfFileReader class stores the no pages in a PDF document "
   ]
  },
  {
   "cell_type": "code",
   "execution_count": 24,
   "id": "89d189e4",
   "metadata": {},
   "outputs": [
    {
     "name": "stdout",
     "output_type": "stream",
     "text": [
      "1\n"
     ]
    }
   ],
   "source": [
    "from PyPDF2 import PdfFileReader\n",
    "pdf_reader=PdfFileReader(r\"C:\\Users\\hp\\Downloads\\Ritu_ResumeP.pdf\")\n",
    "print(pdf_reader.getNumPages())\n"
   ]
  },
  {
   "cell_type": "markdown",
   "id": "b54083d9",
   "metadata": {},
   "source": [
    "# 4. If a PdfFileReader object’s PDF is encrypted with the password swordfish, what must you do before you can obtain Page objects from it?\n",
    "\n",
    "ANSWER-if a PdfFileReader object's PDF is encrypted with the password swordfish and you are not aware of it.First read the pdf using the PdfFileReader class.PdfFileReader class provides a attribute called isEncrypted to check whether a pdf is encrypted or not.the method returns True if a pdf is encrypted.If pdf is encrypted use the decrypt() method provided by PdfFileReader class first then try to read the contents/pages of the pdf.Else PyPDF2 will raise the following error PyPDF2.utils.pdfReadError:file has not been decrypted. "
   ]
  },
  {
   "cell_type": "code",
   "execution_count": null,
   "id": "43fd6f83",
   "metadata": {},
   "outputs": [],
   "source": [
    "from PyPDF2 import PdfFileReader\n",
    "pdf_reader=PdfFileReader(r\"file_path\")\n",
    "if pdf_reader.isEncrypted:\n",
    "    pdf_reader.decrypt(\"swordfish\")\n",
    "for page in pdf_reader.pages:\n",
    "    print(page.extractText())"
   ]
  },
  {
   "cell_type": "markdown",
   "id": "109a057b",
   "metadata": {},
   "source": [
    "# 5. What methods do you use to rotate a page?\n",
    "\n",
    "ANSWER-PyPDF2 package is gives us two method to rotate a page.\n",
    "1->rotateClockWise()-for clockwise rotation\n",
    "2->rotateCounterClockWise-for counter clockwise rotation."
   ]
  },
  {
   "cell_type": "markdown",
   "id": "bba8cb3e",
   "metadata": {},
   "source": [
    "# 6. What is the difference between a Run object and a Paragraph object?\n",
    "\n",
    "ANSWER-A run is the object most closely associated with inline content,text,picture,and other items that are flowed between the block-item boundaries within a paragraph.\n",
    "The paragraph format object providing access to the formatting properties for this paragraph ,such as line spacing and indentation."
   ]
  },
  {
   "cell_type": "markdown",
   "id": "fd70da96",
   "metadata": {},
   "source": [
    "# 7. How do you obtain a list of Paragraph objects for a Document object that’s stored in a variable named doc?\n",
    "\n",
    "ANSWER-With the help of from docx import document."
   ]
  },
  {
   "cell_type": "code",
   "execution_count": null,
   "id": "fa11de09",
   "metadata": {},
   "outputs": [],
   "source": [
    "from docx import Document\n",
    "doc=Document(\"test_file.docx\")\n",
    "print(doc.paragraphs)\n",
    "for paragraph in doc.paragraphs:\n",
    "    print(paragraph.text)"
   ]
  },
  {
   "cell_type": "markdown",
   "id": "97af35d2",
   "metadata": {},
   "source": [
    "# 8. What type of object has bold, underline, italic, strike, and outline variables?\n",
    "\n",
    "ANSWER-Run object has bold,underline,italic,strike,and outline variables.The text in a Word document is more than just a string.It has font ,size,color,other styling information associated with it.\n"
   ]
  },
  {
   "cell_type": "markdown",
   "id": "f798d6e4",
   "metadata": {},
   "source": [
    "# 9. What is the difference between False, True, and None for the bold variable?\n",
    "\n",
    "ANSWER-"
   ]
  },
  {
   "cell_type": "code",
   "execution_count": 5,
   "id": "06808ebf",
   "metadata": {},
   "outputs": [],
   "source": [
    "bold=True #style set to bold\n",
    "bold=False #style not set to bold\n",
    "bold=None  #style not applicable"
   ]
  },
  {
   "cell_type": "markdown",
   "id": "95419f50",
   "metadata": {},
   "source": [
    "# 10. How do you create a Document object for a new Word document?\n",
    "\n",
    "ANSWER-"
   ]
  },
  {
   "cell_type": "code",
   "execution_count": null,
   "id": "706da355",
   "metadata": {},
   "outputs": [],
   "source": [
    "from docx import Document\n",
    "document=Document()\n",
    "document.add_paragraph(\"hello ineuron\")\n",
    "document.save(\"mydoc.docx\")"
   ]
  },
  {
   "cell_type": "markdown",
   "id": "1eaf1e6a",
   "metadata": {},
   "source": [
    "# 11. How do you add a paragraph with the text \"Hello, there!\" to a Document object stored in a variable named doc?\n",
    "\n",
    "ANSWER-"
   ]
  },
  {
   "cell_type": "code",
   "execution_count": null,
   "id": "a6d49ac7",
   "metadata": {},
   "outputs": [],
   "source": [
    "from docx import Document\n",
    "doc=Document()\n",
    "doc.add_paragraph(\"Hello,there!\")\n",
    "doc.save(\"mydoc.docx\")"
   ]
  },
  {
   "cell_type": "markdown",
   "id": "7d1e156e",
   "metadata": {},
   "source": [
    "# 12. What integers represent the levels of headings available in Word documents?\n",
    "\n",
    "ANSWER-The levels for a heading in a word document can be specified by using the level attribute inside the add_heading method.\n",
    "There are a total of 5 level of starting for 0 to 4.Where level 0 makes a headline with the horizontal line below the text,whereas the heading level 1 is the main heading and others heading are sub_heading with decreasing font size. "
   ]
  },
  {
   "cell_type": "code",
   "execution_count": null,
   "id": "55287ec4",
   "metadata": {},
   "outputs": [],
   "source": []
  }
 ],
 "metadata": {
  "kernelspec": {
   "display_name": "Python 3 (ipykernel)",
   "language": "python",
   "name": "python3"
  },
  "language_info": {
   "codemirror_mode": {
    "name": "ipython",
    "version": 3
   },
   "file_extension": ".py",
   "mimetype": "text/x-python",
   "name": "python",
   "nbconvert_exporter": "python",
   "pygments_lexer": "ipython3",
   "version": "3.9.12"
  }
 },
 "nbformat": 4,
 "nbformat_minor": 5
}
